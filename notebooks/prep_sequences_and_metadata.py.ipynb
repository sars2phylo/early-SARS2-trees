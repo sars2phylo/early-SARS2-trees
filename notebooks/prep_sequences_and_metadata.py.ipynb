{
 "cells": [
  {
   "cell_type": "markdown",
   "id": "3da82c90-53a9-4277-8bc3-260189f5a07c",
   "metadata": {},
   "source": [
    "# Prep sequences and metadata"
   ]
  },
  {
   "cell_type": "code",
   "execution_count": null,
   "id": "59f9cd92-5d2d-430a-804e-a1387e8edcca",
   "metadata": {},
   "outputs": [],
   "source": [
    "from datetime import datetime\n",
    "from dateutil.relativedelta import relativedelta\n",
    "\n",
    "import Bio.SeqIO\n",
    "\n",
    "import pandas as pd\n",
    "\n",
    "def date_to_decimal_year(date_str):\n",
    "    \"\"\"Convert YYYY-MM-DD to decimal year\"\"\"\n",
    "    dt = datetime.strptime(date_str, \"%Y-%m-%d\")\n",
    "    year = dt.year\n",
    "    start_of_year = datetime(year, 1, 1)\n",
    "    end_of_year = datetime(year + 1, 1, 1)\n",
    "    \n",
    "    decimal_year = year + (dt - start_of_year).days / (end_of_year - start_of_year).days\n",
    "    return decimal_year"
   ]
  },
  {
   "cell_type": "code",
   "execution_count": null,
   "id": "48aadea1-4b98-4bd1-95b0-df6415715a5d",
   "metadata": {},
   "outputs": [],
   "source": [
    "# get variables from `snakemake`\n",
    "sequence_set = snakemake.wildcards.sequence_set\n",
    "\n",
    "input_fastas = snakemake.input.fastas\n",
    "input_metadata_csv = snakemake.input.metadata\n",
    "\n",
    "unaligned_seqs_fasta = snakemake.output.unaligned_seqs\n",
    "output_metadata_csv = snakemake.output.metadata\n",
    "\n",
    "metadata_req_cols = snakemake.params.metadata_req_cols\n",
    "length_range = snakemake.params.length_range\n",
    "drop_accessions = snakemake.params.drop_accessions\n",
    "\n",
    "print(f\"Analyzing {sequence_set=}\")"
   ]
  },
  {
   "cell_type": "code",
   "execution_count": null,
   "id": "a7a5abe3-5e30-4e17-8ce8-002a4d2a712a",
   "metadata": {},
   "outputs": [],
   "source": [
    "# get the metadata\n",
    "metadata = pd.read_csv(input_metadata_csv)\n",
    "print(f\"Initial {len(metadata)=}\")\n",
    "\n",
    "assert set(metadata_req_cols).issubset(metadata.columns), set(metadata_req_cols) - set(metadata.columns)\n",
    "\n",
    "assert \"date\" in metadata_req_cols, metadata_req_cols\n",
    "\n",
    "metadata = metadata[metadata_req_cols].assign(\n",
    "    accession=lambda x: x[\"accession\"].str.split(\".\").str[0],\n",
    "    num_date=lambda x: x[\"date\"].map(date_to_decimal_year)\n",
    ")\n",
    "\n",
    "assert metadata[\"accession\"].nunique() == len(metadata)\n",
    "\n",
    "print(f\"{drop_accessions=}\")\n",
    "assert not any(\".\" in acc for acc in drop_accessions)\n",
    "\n",
    "metadata = metadata.query(\"accession not in @drop_accessions\")\n",
    "print(f\"Final {len(metadata)=}\")\n",
    "\n",
    "print(f\"Writing to {output_metadata_csv=}\")\n",
    "metadata.to_csv(output_metadata_csv, index=False, float_format=\"%.7g\")"
   ]
  },
  {
   "cell_type": "code",
   "execution_count": null,
   "id": "7e4772a7-fdf1-4ea9-ae0d-d3e879dd07ff",
   "metadata": {},
   "outputs": [],
   "source": [
    "# get the sequences\n",
    "seqs = []\n",
    "seq_accessions = set()\n",
    "metadata_accessions = set(metadata[\"accession\"])\n",
    "for fasta in input_fastas:\n",
    "    print(f\"Reading sequences from {fasta}\")\n",
    "    for seq in Bio.SeqIO.parse(fasta, \"fasta\"):\n",
    "        accession = seq.id.split(\".\")[0]\n",
    "        if accession in drop_accessions:\n",
    "            continue\n",
    "        if accession not in metadata_accessions:\n",
    "            raise ValueError(f\"{accession=} not in {metadata_accessions=}\")\n",
    "        if accession in seq_accessions:\n",
    "            raise ValueError(f\"Duplicate {accession=}\")\n",
    "        if not (length_range[0] <= len(seq) <= length_range[1]):\n",
    "            raise ValueError(f\"{accession=} has {len(seq)=}\")\n",
    "        seq_accessions.add(accession)\n",
    "        seqs.append(f\">{accession}\\n{str(seq.seq)}\\n\")\n",
    "\n",
    "if seq_accessions != metadata_accessions:\n",
    "    raise ValueError(\n",
    "        f\"{(seq_accessions - metadata_accessions)=}\\n\"\n",
    "        f\"{(metadata_accessions - seq_accessions)=}\"\n",
    "    )\n",
    "\n",
    "print(f\"Writing {len(seqs)=} sequences to {unaligned_seqs_fasta=}\")\n",
    "with open(unaligned_seqs_fasta, \"w\") as f:\n",
    "    f.write(\"\\n\".join(seqs))"
   ]
  },
  {
   "cell_type": "code",
   "execution_count": null,
   "id": "5c47bd4f-d219-4b45-96e3-5b6644c890c9",
   "metadata": {},
   "outputs": [],
   "source": []
  }
 ],
 "metadata": {
  "kernelspec": {
   "display_name": "Python 3 (ipykernel)",
   "language": "python",
   "name": "python3"
  },
  "language_info": {
   "codemirror_mode": {
    "name": "ipython",
    "version": 3
   },
   "file_extension": ".py",
   "mimetype": "text/x-python",
   "name": "python",
   "nbconvert_exporter": "python",
   "pygments_lexer": "ipython3",
   "version": "3.12.8"
  }
 },
 "nbformat": 4,
 "nbformat_minor": 5
}
